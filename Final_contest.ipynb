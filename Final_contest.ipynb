{
 "cells": [
  {
   "cell_type": "markdown",
   "metadata": {},
   "source": [
    "# Закроют ли тему на StackOverflow?"
   ]
  },
  {
   "cell_type": "markdown",
   "metadata": {},
   "source": [
    "#### Попов Артём 317 группа"
   ]
  },
  {
   "cell_type": "markdown",
   "metadata": {},
   "source": [
    "## Описание задания:\n",
    "\n",
    "Миллионы разработчиков пользуются StackOverflow каждый день, чтобы находить ответы на свои вопросы. Крайне важно поддерживать качество контента на высоком уровне, чтобы оправдать их доверие и сохранить репутацию.\n",
    "\n",
    "Порядка 6% от всех новых тем закрываются по одной из причин: оффтопик, неконструктивный вопрос, отсутствие вопроса, слишком частный вопрос. Ваша задача — предсказать по заголовку и тексту темы, будет ли она закрыта. Также предоставляются некоторые данные об авторе темы в момент ее создания.\n",
    "\n",
    "## Описание решения\n",
    "\n",
    "Вся суть решения описана в комментариях к коду."
   ]
  },
  {
   "cell_type": "markdown",
   "metadata": {},
   "source": [
    "#### Подключение необходимых библиотек"
   ]
  },
  {
   "cell_type": "code",
   "execution_count": 1,
   "metadata": {
    "collapsed": true
   },
   "outputs": [],
   "source": [
    "import pandas as pd\n",
    "import numpy as np\n",
    "import csv\n",
    "import re\n",
    "\n",
    "import nltk\n",
    "from nltk import SnowballStemmer\n",
    "from nltk.corpus import stopwords\n",
    "from nltk.tokenize import word_tokenize\n",
    "from nltk import sent_tokenize\n",
    "\n",
    "import scipy.sparse as sps\n",
    "import time\n",
    "\n",
    "from sklearn.metrics import roc_auc_score\n",
    "from sklearn.preprocessing import StandardScaler\n",
    "\n",
    "from sklearn.linear_model import LogisticRegression\n",
    "from sklearn.ensemble import RandomForestClassifier\n",
    "\n",
    "from sklearn.feature_extraction.text import TfidfVectorizer\n",
    "\n",
    "from sklearn.cross_validation import KFold"
   ]
  },
  {
   "cell_type": "markdown",
   "metadata": {},
   "source": [
    "#### Считывание данных"
   ]
  },
  {
   "cell_type": "code",
   "execution_count": 2,
   "metadata": {
    "collapsed": false
   },
   "outputs": [],
   "source": [
    "train_path = 'data/train-contest.csv'\n",
    "data = pd.read_csv(train_path)\n",
    "\n",
    "test_path = 'data/test-contest-second.csv'\n",
    "test = pd.read_csv(test_path)"
   ]
  },
  {
   "cell_type": "markdown",
   "metadata": {},
   "source": [
    "#### Предобработка данных\n",
    "\n",
    "1. Данные делятся на код и текст (кодом считаются все строки, которые начинаются с символа табуляции или минимум с четырёх пробелов). Дополнительно первое предложение и последнее запоминаются. Из данных удаляются все символы переноса строки (их количество фиксируется и является одним из признаков (количество строк в коде))\n",
    "\n",
    "2. Из данных удаляются все символы с неподходящей кодировкой (параллельно генерируются признаки - количество символов с неправильной кодировкой и т.п.)\n",
    "\n",
    "3. Nan в данных заменяются на пустые строки.\n",
    "\n",
    "4. Из данных удаляются все : и | для перевода в формат VowpalWabbit"
   ]
  },
  {
   "cell_type": "code",
   "execution_count": 3,
   "metadata": {
    "collapsed": true
   },
   "outputs": [],
   "source": [
    "def divide_to_text_and_code(s):\n",
    "    list_grams = s.split('\\n')\n",
    "    code = ''\n",
    "    text = ''\n",
    "    numb_line_code = 0\n",
    "    numb_line_text = 0\n",
    "    flag = 0\n",
    "    first_code = 0\n",
    "    first_text = 0\n",
    "    list_grams = filter(lambda x: len(x) >= 4, list_grams)\n",
    "    for line in list_grams:\n",
    "        if line[0] == '\\t' or line[0:4].isspace():\n",
    "            if flag == 0:\n",
    "                flag = 1\n",
    "                first_code = 1\n",
    "            code = code + line + ' '\n",
    "            numb_line_code += 1 \n",
    "            continue\n",
    "        if flag == 0:\n",
    "            flag = 1\n",
    "            first_text = 1\n",
    "        text = text + line + ' '\n",
    "        numb_line_text += 1\n",
    "    return (text, numb_line_text, code, numb_line_code, first_text, first_code)\n",
    "\n",
    "\n",
    "def count_not_ascii(s):\n",
    "    return sum(list(ord(c) >= 128 for c in s))\n",
    "\n",
    "\n",
    "def delete_not_ascii(s):\n",
    "    return ''.join(list(c for c in s if ord(c) < 128))\n",
    "\n",
    "\n",
    "def post_proc(s):\n",
    "    temp = re.sub(\"\\r|\\n\", \" \", s)\n",
    "    return temp\n",
    "\n",
    "\n",
    "def del_colon(s):\n",
    "    temp = s.replace(\":\", \".\")\n",
    "    temp = temp.replace(\"|\", \".\")\n",
    "    return temp\n",
    "\n",
    "\n",
    "def processing(data): \n",
    "    # признаки, связанные с не той кодировкой\n",
    "    data['NotAsciiBody'] = data.BodyMarkdown.apply(lambda x: count_not_ascii(x))\n",
    "    data['NotAsciiTitle'] = data.Title.apply(lambda x: count_not_ascii(x))\n",
    "    data['BodyMarkdown'] = data.BodyMarkdown.apply(lambda x: delete_not_ascii(x))\n",
    "    data['Title'] = data.Title.apply(lambda x: delete_not_ascii(x))\n",
    "    \n",
    "    big_col = data.BodyMarkdown.apply(lambda x: divide_to_text_and_code(x))\n",
    "    data['Text'] = big_col.apply(lambda x: x[0])\n",
    "    data['Code'] = big_col.apply(lambda x: x[2])\n",
    "    data['NLinesInText'] = big_col.apply(lambda x: x[1])\n",
    "    data['NLinesInCode'] = big_col.apply(lambda x: x[3])\n",
    "    data['FirstIsText'] = big_col.apply(lambda x: x[4])\n",
    "    data['FirstIsCode'] = big_col.apply(lambda x: x[5])\n",
    "\n",
    "    \n",
    "    data['BodyMarkdown'] = data.BodyMarkdown.apply(lambda x: del_colon(post_proc(x)))\n",
    "    data['Title'] = data.Title.apply(lambda x: del_colon(post_proc(x)))\n",
    "    data['Text'] = data.Text.apply(lambda x: del_colon(post_proc(x)))\n",
    "    data['Code'] = data.Code.apply(lambda x: del_colon(post_proc(x)))\n",
    "    \n",
    "    data['Tag1'] = data['Tag1'].fillna('')\n",
    "    data['Tag2'] = data['Tag2'].fillna('')\n",
    "    data['Tag3'] = data['Tag3'].fillna('')\n",
    "    data['Tag4'] = data['Tag4'].fillna('')\n",
    "    data['Tag5'] = data['Tag5'].fillna('')\n",
    "    return data\n",
    "\n"
   ]
  },
  {
   "cell_type": "code",
   "execution_count": 4,
   "metadata": {
    "collapsed": false
   },
   "outputs": [],
   "source": [
    "data = processing(data)\n",
    "test = processing(test)"
   ]
  },
  {
   "cell_type": "markdown",
   "metadata": {},
   "source": [
    "#### Преобразование данных в формат TF-IDF\n",
    "\n",
    "Берутся отдельно модели TF-IDF по тексту, коду, отдельно по каждому тэгу, заголовку и по совмещённому коду и тексту. В некоторых случаях берутся биграммы."
   ]
  },
  {
   "cell_type": "code",
   "execution_count": 1,
   "metadata": {
    "collapsed": true
   },
   "outputs": [],
   "source": [
    "def itdf(data, test):\n",
    "    vect = TfidfVectorizer(min_df=10)\n",
    "        \n",
    "    data_itdf10 = vect.fit_transform(data.BodyMarkdown.apply(lambda x: x.lower()))\n",
    "    test_itdf10 = vect.transform(test.BodyMarkdown.apply(lambda x: x.lower()))\n",
    "\n",
    "    data_itdf3 = vect.fit_transform(data.Title.apply(lambda x: x.lower()))\n",
    "    test_itdf3 = vect.transform(test.Title.apply(lambda x: x.lower()))\n",
    "\n",
    "    \n",
    "    vect = TfidfVectorizer(min_df=10, ngram_range=(1, 2))\n",
    "\n",
    "    data_itdf1 = vect.fit_transform(data.Text.apply(lambda x: x.lower()))\n",
    "    test_itdf1 = vect.transform(test.Text.apply(lambda x: x.lower()))\n",
    "    \n",
    "    data_itdf2 = vect.fit_transform(data.Code.apply(lambda x: x.lower()))\n",
    "    test_itdf2 = vect.transform(test.Code.apply(lambda x: x.lower()))\n",
    "\n",
    "    \n",
    "    vect = TfidfVectorizer(min_df=2)\n",
    "    \n",
    "    data_itdf4 = vect.fit_transform(data.Tag1)\n",
    "    test_itdf4 = vect.transform(test.Tag1)\n",
    "    \n",
    "    data_itdf5 = vect.fit_transform(data.Tag2)\n",
    "    test_itdf5 = vect.transform(test.Tag2)\n",
    "    \n",
    "    data_itdf6 = vect.fit_transform(data.Tag2)\n",
    "    test_itdf6 = vect.transform(test.Tag2)\n",
    "    \n",
    "    data_itdf7 = vect.fit_transform(data.Tag3)\n",
    "    test_itdf7 = vect.transform(test.Tag3)\n",
    "    \n",
    "    data_itdf8 = vect.fit_transform(data.Tag4)\n",
    "    test_itdf8 = vect.transform(test.Tag4)\n",
    "    \n",
    "    data_itdf9 = vect.fit_transform(data.Tag5)\n",
    "    test_itdf9 = vect.transform(test.Tag5)    \n",
    "    \n",
    "    \n",
    "    data_itdf = sps.hstack((data_itdf1, data_itdf2, data_itdf3, data_itdf4, data_itdf5, data_itdf6, \n",
    "                           data_itdf7, data_itdf8, data_itdf9, data_itdf10))\n",
    "    test_itdf = sps.hstack((test_itdf1, test_itdf2, test_itdf3, test_itdf4, test_itdf5, test_itdf6,\n",
    "                           test_itdf7, test_itdf8, test_itdf9, test_itdf10))\n",
    "    return (data_itdf, test_itdf)"
   ]
  },
  {
   "cell_type": "code",
   "execution_count": null,
   "metadata": {
    "collapsed": true
   },
   "outputs": [],
   "source": [
    "data_itdf, test_itdf = itdf(data, test)"
   ]
  },
  {
   "cell_type": "markdown",
   "metadata": {},
   "source": [
    "### Генерация признаков"
   ]
  },
  {
   "cell_type": "markdown",
   "metadata": {},
   "source": [
    "Можно условно поделить признаки на несколько категорий:\n",
    "\n",
    "1. Длина в символах конкретной сущности (текста, кода, первого предложения, последнего предложения, каждого из тэгов, заголовка)\n",
    "\n",
    "2. Наличие конкретных сущностей\n",
    "\n",
    "3. Длина в словах конкретных сущностей\n",
    "\n",
    "4. Признаки связанные с предложениями (количество предложений, количество вопросительных предлоений, отношение количества вопросительных ко всем и тп.)\n",
    "\n",
    "5. Признаки учитывающие конкретные символы, конкретные слова\n",
    "\n",
    "Не все из признаков, сгенерированных ниже, использовались при обучении модели."
   ]
  },
  {
   "cell_type": "code",
   "execution_count": null,
   "metadata": {
    "collapsed": true
   },
   "outputs": [],
   "source": [
    "def detect_first_letter(s):\n",
    "    if (len(s) == 0 or not s[0].isupper()):\n",
    "        return 0\n",
    "    else:\n",
    "        return 1\n",
    "\n",
    "    \n",
    "def detect_first_letter_list(s):\n",
    "    return sum(map(lambda x: detect_first_letter(x), s))\n",
    "\n",
    "\n",
    "def detect_last_char(s, my_char):\n",
    "    if (len(s) == 0 or s[-1] != my_char):\n",
    "        return 0\n",
    "    else:\n",
    "        return 1\n",
    "\n",
    "    \n",
    "def detect_last_char_list(s, my_char):\n",
    "    return sum(map(lambda x: detect_last_char(x, my_char), s))\n",
    "    \n",
    "    \n",
    "def count_mean(s, tokenizer):\n",
    "    l = [len(seq) for seq in tokenizer(s)]\n",
    "    return np.mean(np.array(l))\n",
    "\n",
    "\n",
    "def count_mean_of_mean(s):\n",
    "    l = np.mean(np.array(map(lambda y: np.mean(np.array(map(lambda x: len(x), word_tokenize(y)))), sent_tokenize(s))))\n",
    "    return l\n",
    "\n",
    "\n",
    "def exist(x):\n",
    "    if x > 0:\n",
    "        return 1.0\n",
    "    else:\n",
    "        return 0.0\n",
    "\n",
    "    \n",
    "def sent(x):\n",
    "    list_sent = sent_tokenize(x)\n",
    "    list_sent = list(filter(lambda x: len(x) >= 4 , list_sent))\n",
    "    list_sent = list(map(lambda x: str.strip(x), list_sent))\n",
    "    return list_sent\n",
    "\n",
    "\n",
    "def run_len_encode_vec(x):\n",
    "    y = np.hstack(([-1], x, [0]))\n",
    "    temp = np.hstack(([0], np.diff(np.where(np.diff(y) != 0))[0]))\n",
    "    temp = np.cumsum(temp)\n",
    "    return y[np.diff(y) != 0][1:], temp"
   ]
  },
  {
   "cell_type": "code",
   "execution_count": 5,
   "metadata": {
    "collapsed": true
   },
   "outputs": [],
   "source": [
    "def feature_add(data):\n",
    "# создание новых сущностей\n",
    "    sent_text = data.Text.apply(lambda x: sent(x))\n",
    "    sent_text = sent_text.apply(lambda x: [''] if len(x) == 0 else x)\n",
    "    data['FirstText'] = sent_text.apply(lambda x: x[0])\n",
    "    data['LastText'] = sent_text.apply(lambda x: x[-1])    \n",
    "    \n",
    "# длина\n",
    "    data['TextLen'] = data.Text.apply(lambda x: len(x))\n",
    "    data['CodeLen'] = data.Code.apply(lambda x: len(x))\n",
    "    data['TitleLen'] = data.Title.apply(lambda x: len(x))\n",
    "    data['BodyLen'] = data.BodyMarkdown.apply(lambda x: len(x))\n",
    "    \n",
    "    data['Tag1Len'] = data.Tag1.apply(lambda x: len(x))\n",
    "    data['Tag2Len'] = data.Tag2.apply(lambda x: len(x))\n",
    "    data['Tag3Len'] = data.Tag3.apply(lambda x: len(x))\n",
    "    data['Tag4Len'] = data.Tag4.apply(lambda x: len(x))\n",
    "    data['Tag5Len'] = data.Tag5.apply(lambda x: len(x))\n",
    "    data['AllTagLen'] = data['Tag1Len'] + data['Tag2Len'] + data['Tag3Len'] + data['Tag4Len'] + data['Tag5Len']\n",
    "    \n",
    "    data['FirstTextLen'] = data.FirstText.apply(lambda x: len(x))\n",
    "    data['LastTextLen'] = data.LastText.apply(lambda x: len(x))\n",
    "    \n",
    "\n",
    "# существование \n",
    "    data['TextExist'] = data.TextLen.apply(lambda x: exist(x))\n",
    "    data['CodeExist'] = data.CodeLen.apply(lambda x: exist(x))\n",
    "    data['Tag1Exist'] = data.Tag1Len.apply(lambda x: exist(x))\n",
    "    data['Tag2Exist'] = data.Tag2Len.apply(lambda x: exist(x))\n",
    "    data['Tag3Exist'] = data.Tag3Len.apply(lambda x: exist(x))\n",
    "    data['Tag4Exist'] = data.Tag4Len.apply(lambda x: exist(x))\n",
    "    data['Tag5Exist'] = data.Tag5Len.apply(lambda x: exist(x))\n",
    "    \n",
    "    \n",
    "# признаки, связанные со словами\n",
    "    data['NWordsInText'] = data.Text.apply(lambda x: len(x.split()))\n",
    "    data['NWordsInTitle'] = data.Title.apply(lambda x: len(x.split())) \n",
    "    data['NWordsInCode'] = data.Code.apply(lambda x: len(x.split())) \n",
    "    data['NWordsInBody'] = data.BodyMarkdown.apply(lambda x: len(x.split()))\n",
    "    \n",
    "    \n",
    "# признаки, связанные с предложениями\n",
    "    data['NSentenceInText'] = sent_text.apply(lambda x: len(x))\n",
    "    data['FirstLetterInSentence'] = sent_text.apply(lambda x: detect_first_letter_list(x))\n",
    "    data['NQuest'] = sent_text.apply(lambda x: detect_last_char_list(x, '?'))\n",
    "    data['NDot'] = data.Text.apply(lambda x: detect_last_char_list(x, '.'))\n",
    "    data['NExcl'] = data.Text.apply(lambda x: detect_last_char_list(x, '!'))\n",
    "    data['RatioQuestAll'] = data['NQuest'] / (data['NSentenceInText'] + 1)\n",
    "    data['RatioDotAll'] = data['NDot'] / (data['NSentenceInText'] + 1)\n",
    "    data['RatioExclAll'] = data['NExcl'] / (data['NSentenceInText'] + 1)\n",
    "\n",
    "\n",
    "# признаки касающиеся особых символов и слова\n",
    "    data['DigitCount'] = data.Text.apply(lambda x: sum(c.isdigit() for c in x))\n",
    "    data['ArithmCountText'] = data.Text.apply(lambda x: x.count('+') + x.count('-') + x.count('*'))\n",
    "    data['ArithmCountCode'] = data.Code.apply(lambda x: x.count('+') + x.count('-') + x.count('*'))\n",
    "    data['EqCountText'] = data.Text.apply(lambda x: x.count('='))\n",
    "    data['EqCountCode'] = data.Code.apply(lambda x: x.count('='))\n",
    "    data['Thanks'] = data.LastText.apply(lambda x: x.lower().count('thanks'))\n",
    "    data['I'] = data.FirstText.apply(lambda x: x.lower().count('i '))\n",
    "    data['UrlCount'] = data.Text.apply(lambda x: x.count('http'))\n",
    "    \n",
    "\n",
    "# отношения признаков\n",
    "    data['RatioTextCode'] = data['TextLen'] / (data['CodeLen'] + 1)\n",
    "    data['RatioFirstText'] = data['FirstTextLen'] / (data['TextLen'] + 1) \n",
    "    data['RatioLastText'] = data['LastTextLen'] / (data['TextLen'] + 1)\n",
    "    data['RatioTextNWords'] = (data['TextLen']) / (data['NWordsInText'] + 1)\n",
    "    data['RatioTextNSentence'] = data['TextLen'] / (data['NSentenceInText'] + 1)\n",
    "    data['RatioNWordsNSentence'] = data['NWordsInText'] / (data['NSentenceInText'] + 1)\n",
    "    data['RatioCodeNLines'] = data['CodeLen'] / (data['NLinesInCode'] + 1)\n",
    "    data['RatioNotAsciiBody'] = data['NotAsciiBody'] / (data['BodyLen'] + 1)\n",
    "    data['RatioNotAsciiTitle'] = data['NotAsciiTitle'] / (data['TitleLen'] + 1)\n",
    "\n",
    "# что-то странное\n",
    "    data['EqCountTitle'] = data.BodyMarkdown.apply(lambda x: x.count('='))\n",
    "    data['ArithmCount'] = data.BodyMarkdown.apply(lambda x: x.count('+') + x.count('-') + x.count('*'))\n",
    "    data['ArithmTitleCount'] = data.Title.apply(lambda x: x.count('+') + x.count('-') + x.count('*'))\n",
    "    data['{Count'] = data.BodyMarkdown.apply(lambda x: x.count('{') + x.count('}'))\n",
    "    data['[Count'] = data.BodyMarkdown.apply(lambda x: x.count('[') + x.count(']'))\n",
    "    data['(Count'] = data.BodyMarkdown.apply(lambda x: x.count('(') + x.count(')'))\n",
    "    return data"
   ]
  },
  {
   "cell_type": "code",
   "execution_count": 7,
   "metadata": {
    "collapsed": false,
    "scrolled": true
   },
   "outputs": [],
   "source": [
    "data = feature_add(data)\n",
    "test = feature_add(test)"
   ]
  },
  {
   "cell_type": "markdown",
   "metadata": {},
   "source": [
    "### Стемминг\n",
    "\n",
    "Стемминг слов производился для одной из моделей (описаны функции, сам стеминг производится позже) "
   ]
  },
  {
   "cell_type": "code",
   "execution_count": 14,
   "metadata": {
    "collapsed": false
   },
   "outputs": [],
   "source": [
    "def stem_str(s):\n",
    "    st = SnowballStemmer(\"english\")\n",
    "    res = ' '.join([st.stem(word) for word in word_tokenize(s)])   \n",
    "    return res.encode('ascii')\n",
    "\n",
    "def stemming(data):\n",
    "    data['TextStem'] = data.Text.apply(lambda x: stem_str(x))\n",
    "    data['TitleStem'] = data.Title.apply(lambda x: stem_str(x))\n",
    "    return data\n"
   ]
  },
  {
   "cell_type": "markdown",
   "metadata": {},
   "source": [
    "### Перевод данных в формат Vowpal Wabbit\n",
    "\n",
    "Две функции для перевода в формат Vowpal Wabbit текста и матрицы TF-IDF"
   ]
  },
  {
   "cell_type": "code",
   "execution_count": 15,
   "metadata": {
    "collapsed": true
   },
   "outputs": [],
   "source": [
    "def process_for_vw(s):\n",
    "    textdata = feature_add(data)\n",
    "    test = feature_add(test) = filter(lambda x: len(x) > 1, re.split(\"[^a-z]\", s.lower()))\n",
    "    text = set(text)\n",
    "    text = ' '.join(text)\n",
    "    return text\n",
    "\n",
    "\n",
    "def itdf_to_vw(data):\n",
    "    l = []\n",
    "    t = sps.find(data)\n",
    "    lens = run_len_encode_vec(t[0])\n",
    "    ind = lens[0]\n",
    "    lens = lens[1]\n",
    "    set_of_texts = np.unique(t[0])\n",
    "    i = -1\n",
    "    for j in range(data.shape[0]):\n",
    "        if j not in set_of_texts:\n",
    "            l.append(' ')\n",
    "            continue\n",
    "        i += 1\n",
    "        temp = t[1][lens[i]:lens[i + 1]]\n",
    "        temp2 = t[2][lens[i]:lens[i + 1]]\n",
    "        z = zip(temp, temp2)\n",
    "        s = [str(index) + ':' + str(feature) + ' ' for (index, feature) in z]\n",
    "        s = ' '.join(s)\n",
    "        l.append(s)\n",
    "    return l"
   ]
  },
  {
   "cell_type": "code",
   "execution_count": 16,
   "metadata": {
    "collapsed": false,
    "scrolled": false
   },
   "outputs": [
    {
     "name": "stderr",
     "output_type": "stream",
     "text": [
      "/usr/local/lib/python2.7/dist-packages/ipykernel/__main__.py:181: VisibleDeprecationWarning: boolean index did not match indexed array along dimension 0; dimension is 12327793 but corresponding boolean dimension is 12327792\n",
      "/usr/local/lib/python2.7/dist-packages/ipykernel/__main__.py:181: VisibleDeprecationWarning: boolean index did not match indexed array along dimension 0; dimension is 5232525 but corresponding boolean dimension is 5232524\n"
     ]
    },
    {
     "name": "stdout",
     "output_type": "stream",
     "text": [
      "38254\n"
     ]
    }
   ],
   "source": [
    "data_itdf_vw = itdf_to_vw(data_itdf)\n",
    "test_itdf_vw = itdf_to_vw(test_itdf)"
   ]
  },
  {
   "cell_type": "markdown",
   "metadata": {},
   "source": [
    "## Обучение моделей в Vowpal Wabbit\n",
    "\n",
    "В VW было обучено две модели. В обоих случаях использовалась логистическая регрессия. Одна построена на модели TF-IDF и некоторых признаках, другая построена на признаках и по множествам слов в текстах сообщений (т.е. учитывалось только наличие конкретного слова в тексте, но не учитывалось количество его встречаний). Для второй модели производился стемминг (для модели с TF-IDF не производился).\n",
    "\n"
   ]
  },
  {
   "cell_type": "code",
   "execution_count": 17,
   "metadata": {
    "collapsed": true
   },
   "outputs": [],
   "source": [
    "def save_to_vw_itdf(data, fname, data_itdf_vw, is_test):\n",
    "    i = 0\n",
    "    target = 0\n",
    "    with open(fname, 'w') as fout:\n",
    "        for _, row in data.iterrows():\n",
    "            if is_test == 0:\n",
    "                if row.OpenStatus == 1:\n",
    "                    target = 1\n",
    "                else:\n",
    "                    target = -1\n",
    "            \n",
    "            s = data_itdf_vw[i]\n",
    "            i += 1\n",
    "       \n",
    "            if is_test == 0:\n",
    "                big_text = '{0} |itdf {1}'\n",
    "            else:\n",
    "                big_text = '|itdf {1}'\n",
    "            lens = '|len 1:{8} 2:{9} 3:{10} 4:{11} 5:{12} 6:{13}'\n",
    "            spec = '|spec 1:{14} 2:{15}'\n",
    "            nwords = '|nwords 1:{16} 2:{17}'\n",
    "            nsent = '|nsent 1:{18} 2:{19} 3:{20} 4:{21} 5:{22}'\n",
    "            exist = '|exist 1:{23} 2:{24} 3:{25} 4:{26} 5:{27} 6:{28} 7:{29}'\n",
    "            not_ascii = '|noas 1:{30}'# 2:{31} 3:{32} 4:{33}'\n",
    "            spec_word = '|spw 1:{34} 2:{35} 3:{36} 4:{37}'\n",
    "            ratio = '|ratio 1:{38} 2:{39} 3:{40} 4:{41} 5:{42} 6:{43} 7:{44}'\n",
    "            len2 = '|lentwo 1:{45} 2:{46} 3:{47} 4:{48} 5:{49}'\n",
    "            line = '|line 1:{50} 2:{51}'\n",
    "            first = '|first 1:{52} 2:{53}'\n",
    "\n",
    "            feature = big_text + lens + spec + nwords + nsent + exist + not_ascii + spec_word + ratio + line + first + '\\n'\n",
    "            fout.write(feature.format(target, \n",
    "                    s,  ' ',\n",
    "                    row.Tag1, row.Tag2, row.Tag3, row.Tag4, row.Tag5,\n",
    "                    row.TextLen, row.CodeLen, row.TitleLen, row.Tag1Len, row.FirstTextLen, row.LastTextLen,\n",
    "                    row.ReputationAtPostCreation, row.OwnerUndeletedAnswerCountAtPostTime,\n",
    "                    row.NWordsInText, row.NWordsInTitle,\n",
    "                    row.NSentenceInText, row.RatioQuestAll, row.RatioDotAll, row.RatioExclAll, row.FirstLetterInSentence,\n",
    "                    row.TextExist, row.CodeExist, row.Tag1Exist, row.Tag2Exist, row.Tag3Exist, row.Tag4Exist, row.Tag5Exist,\n",
    "                    row.RatioNotAsciiBody, row.RatioNotAsciiTitle, row.NotAsciiBody, row.NotAsciiTitle,\n",
    "                    row.Thanks, row.I, row.UrlCount, row.DigitCount,\n",
    "                    row.RatioTextCode, row.RatioFirstText, row.RatioLastText, row.RatioTextNWords, \n",
    "                                     row.RatioTextNSentence, row.RatioNWordsNSentence, row.RatioCodeNLines,\n",
    "                    row.Tag1Len, row.Tag2Len, row.Tag3Len, row.Tag4Len, row.Tag5Len,\n",
    "                    row.NLinesInText, row.NLinesInCode,\n",
    "                    row.FirstIsText, row.FirstIsCode))\n",
    "\n"
   ]
  },
  {
   "cell_type": "code",
   "execution_count": 18,
   "metadata": {
    "collapsed": false
   },
   "outputs": [],
   "source": [
    "def save_to_vw(data, fname, is_test):\n",
    "    i = -1\n",
    "    target = 0\n",
    "    with open(fname, 'w') as fout:\n",
    "        for _, row in data.iterrows():\n",
    "            if is_test == 0:\n",
    "                if row.OpenStatus == 1:\n",
    "                    target = 1\n",
    "                else:\n",
    "                    target = -1\n",
    "        \n",
    "            text = process_for_vw((row.TextStem))\n",
    "            title = process_for_vw((row.TitleStem))\n",
    "\n",
    "\n",
    "            if is_test == 0:\n",
    "                big_text = '{0} |tit {1} |btex {2}'\n",
    "            else:\n",
    "                big_text = '|tit {1} |btex {2}'\n",
    "            tags = '|tone {3} |ttwo {4} |tthree {5} |tfour {6} |tfive {7}'\n",
    "            lens = '|len 1:{8} 2:{9} 3:{10} 4:{11} 5:{12} 6:{13}'\n",
    "            spec = '|spec 1:{14} 2:{15}'\n",
    "            nwords = '|nwords 1:{16} 2:{17}'\n",
    "            nsent = '|nsent 1:{18} 2:{19} 3:{20} 4:{21} 5:{22}'\n",
    "            exist = '|exist 1:{23} 2:{24} 3:{25} 4:{26} 5:{27} 6:{28} 7:{29}'\n",
    "            not_ascii = '|noas 1:{30} 2:{31} 3:{32} 4:{33}'\n",
    "            spec_word = '|spw 1:{34} 2:{35} 3:{36} 4:{37}'\n",
    "            ratio = '|ratio 1:{38} 2:{39} 3:{40} 4:{41} 5:{42} 6:{43} 7:{44}'\n",
    "            len2 = '|lentwo 1:{45} 2:{46} 3:{47} 4:{48} 5:{49}'\n",
    "            line = '|line 1:{50} 2:{51}'\n",
    "            first = '|f 1:{52} 2:{53}'\n",
    "\n",
    "            feature = big_text + tags + lens + spec + nwords + nsent + exist + not_ascii + spec_word + ratio + line + first + '\\n'\n",
    "            \n",
    "            fout.write(feature.format(target, \n",
    "                    title, text,\n",
    "                    row.Tag1, row.Tag2, row.Tag3, row.Tag4, row.Tag5,\n",
    "                    row.TextLen, row.CodeLen, row.TitleLen, row.Tag1Len, row.FirstTextLen, row.LastTextLen,\n",
    "                    row.ReputationAtPostCreation, row.OwnerUndeletedAnswerCountAtPostTime,\n",
    "                    row.NWordsInText, row.NWordsInTitle,\n",
    "                    row.NSentenceInText, row.RatioQuestAll, row.RatioDotAll, row.RatioExclAll, row.FirstLetterInSentence,\n",
    "                    row.TextExist, row.CodeExist, row.Tag1Exist, row.Tag2Exist, row.Tag3Exist, row.Tag4Exist, row.Tag5Exist,\n",
    "                    row.RatioNotAsciiBody, row.RatioNotAsciiTitle, row.NotAsciiBody, row.NotAsciiTitle,\n",
    "                    row.Thanks, row.I, row.UrlCount, row.DigitCount,\n",
    "                    row.RatioTextCode, row.RatioFirstText, row.RatioLastText, row.RatioTextNWords, \n",
    "                                     row.RatioTextNSentence, row.RatioNWordsNSentence, row.RatioCodeNLines,\n",
    "                    row.Tag1Len, row.Tag2Len, row.Tag3Len, row.Tag4Len, row.Tag5Len,\n",
    "                    row.NLinesInText, row.NLinesInCode,\n",
    "                    row.FirstIsText, row.FirstIsCode))\n",
    "\n"
   ]
  },
  {
   "cell_type": "code",
   "execution_count": 19,
   "metadata": {
    "collapsed": true
   },
   "outputs": [],
   "source": [
    "def calc_vw_qual():\n",
    "    preds = pd.read_csv('pred.txt', header=None).iloc[:, 0].values\n",
    "    target = test.OpenStatus.values\n",
    "    print roc_auc_score(target, preds)\n",
    "    return preds"
   ]
  },
  {
   "cell_type": "code",
   "execution_count": 20,
   "metadata": {
    "collapsed": true
   },
   "outputs": [],
   "source": [
    "def norm_preds(preds):\n",
    "    preds1 = preds + np.abs(preds.min())\n",
    "    preds2 = preds1 / preds1.max()\n",
    "    return preds2"
   ]
  },
  {
   "cell_type": "markdown",
   "metadata": {},
   "source": [
    "### Первая модель (TF-IDF)"
   ]
  },
  {
   "cell_type": "code",
   "execution_count": 21,
   "metadata": {
    "collapsed": false
   },
   "outputs": [],
   "source": [
    "save_to_vw_itdf(data, 'train.vw', data_itdf_vw, 0)\n",
    "save_to_vw_itdf(test, 'test.vw', test_itdf_vw, 1)"
   ]
  },
  {
   "cell_type": "code",
   "execution_count": 34,
   "metadata": {
    "collapsed": false
   },
   "outputs": [],
   "source": [
    "!vw -d train.vw --loss_function=logistic -c -k -f model.vw -q ff -b 18 --passes 10 -l 0.08 --quiet"
   ]
  },
  {
   "cell_type": "code",
   "execution_count": 35,
   "metadata": {
    "collapsed": false,
    "scrolled": true
   },
   "outputs": [],
   "source": [
    "!vw -d test.vw --loss_function=logistic -i model.vw -t -p pred.txt  --quiet"
   ]
  },
  {
   "cell_type": "code",
   "execution_count": 39,
   "metadata": {
    "collapsed": false,
    "scrolled": true
   },
   "outputs": [
    {
     "name": "stdout",
     "output_type": "stream",
     "text": [
      "0.848511526301\n"
     ]
    }
   ],
   "source": [
    "preds = calc_vw_qual()"
   ]
  },
  {
   "cell_type": "code",
   "execution_count": 88,
   "metadata": {
    "collapsed": true
   },
   "outputs": [],
   "source": [
    "preds = pd.read_csv('pred.txt', header=None).iloc[:, 0].values"
   ]
  },
  {
   "cell_type": "markdown",
   "metadata": {},
   "source": [
    "Результат на старой тестовой выборке - 0.855506"
   ]
  },
  {
   "cell_type": "code",
   "execution_count": 40,
   "metadata": {
    "collapsed": false
   },
   "outputs": [],
   "source": [
    "preds = norm_preds(preds)"
   ]
  },
  {
   "cell_type": "markdown",
   "metadata": {},
   "source": [
    "### Вторая модель (set of words)"
   ]
  },
  {
   "cell_type": "code",
   "execution_count": 41,
   "metadata": {
    "collapsed": true
   },
   "outputs": [],
   "source": [
    "data = stemming(data)\n",
    "test = stemming(test)"
   ]
  },
  {
   "cell_type": "code",
   "execution_count": 42,
   "metadata": {
    "collapsed": false
   },
   "outputs": [],
   "source": [
    "save_to_vw(data, 'train1.vw', 0)\n",
    "save_to_vw(test, 'test1.vw', 1)"
   ]
  },
  {
   "cell_type": "code",
   "execution_count": 43,
   "metadata": {
    "collapsed": false
   },
   "outputs": [],
   "source": [
    "!vw -d train1.vw --loss_function=logistic -c -k -f model.vw -q ff -b 18 --passes 10 -l 0.175 --quiet --l2 0.000000005"
   ]
  },
  {
   "cell_type": "code",
   "execution_count": 44,
   "metadata": {
    "collapsed": true
   },
   "outputs": [],
   "source": [
    "!vw -d test1.vw --loss_function=logistic -i model.vw -t -p pred.txt  --quiet"
   ]
  },
  {
   "cell_type": "code",
   "execution_count": 45,
   "metadata": {
    "collapsed": false,
    "scrolled": false
   },
   "outputs": [
    {
     "name": "stdout",
     "output_type": "stream",
     "text": [
      "0.847046668636\n"
     ]
    }
   ],
   "source": [
    "preds1 = calc_vw_qual()"
   ]
  },
  {
   "cell_type": "code",
   "execution_count": 96,
   "metadata": {
    "collapsed": true
   },
   "outputs": [],
   "source": [
    "preds1 = pd.read_csv('pred.txt', header=None).iloc[:, 0].values"
   ]
  },
  {
   "cell_type": "code",
   "execution_count": 46,
   "metadata": {
    "collapsed": true
   },
   "outputs": [],
   "source": [
    "preds1 = norm_preds(preds1)"
   ]
  },
  {
   "cell_type": "markdown",
   "metadata": {},
   "source": [
    "Совмещение моделей немного улучшает результаты"
   ]
  },
  {
   "cell_type": "code",
   "execution_count": 47,
   "metadata": {
    "collapsed": false,
    "scrolled": false
   },
   "outputs": [
    {
     "name": "stdout",
     "output_type": "stream",
     "text": [
      "(0.1, 0.85012707751632488)\n",
      "(0.2, 0.85208664033809534)\n",
      "(0.3, 0.85317123523324534)\n",
      "(0.4, 0.85360130918588517)\n",
      "(0.5, 0.85348813124513112)\n",
      "(0.6, 0.85297560606265055)\n",
      "(0.7, 0.85215258265527472)\n",
      "(0.8, 0.85109816113690751)\n",
      "(0.9, 0.84986812381009824)\n",
      "(1, 0.84851152630104232)\n"
     ]
    }
   ],
   "source": [
    "for alpha in [0.1, 0.2, 0.3, 0.4, 0.5, 0.6, 0.7, 0.8, 0.9, 1]:\n",
    "    print(alpha, roc_auc_score(test.OpenStatus.values, alpha * preds + (1 - alpha) * preds1))"
   ]
  },
  {
   "cell_type": "markdown",
   "metadata": {},
   "source": [
    "### Random Forest\n",
    "\n",
    "Также на TF-IDF и признаках был обучен Random Forest."
   ]
  },
  {
   "cell_type": "code",
   "execution_count": 48,
   "metadata": {
    "collapsed": true
   },
   "outputs": [],
   "source": [
    "def my_final_RF (data, test):    \n",
    "    y_train = data.OpenStatus\n",
    "   \n",
    "    feature_set_RF = ['RatioTextCode', 'TextLen', 'TitleLen', 'RatioTextNWords', 'ReputationAtPostCreation',\n",
    "                 'NWordsInBody', 'RatioTextNSentence', 'RatioLastText', 'RatioFirstText', 'FirstTextLen',\n",
    "                 'NWordsInText', 'LastTextLen', 'CodeLen', 'RatioDotAll', 'OwnerUndeletedAnswerCountAtPostTime',\n",
    "                 'RatioCodeNLines', 'NLinesInCode', 'Tag2Len', 'NWordsInTitle', 'Tag1Len', 'FirstLetterInSentence',\n",
    "                 'NLinesInText', 'DigitCount', 'Tag3Len', 'RatioQuestAll', 'NSentenceInText', 'I',\n",
    "                     'Tag4Len', 'NQuest', 'CodeExist']    \n",
    "    \n",
    "    X_LR_train = data[feature_set_RF]\n",
    "    X_LR_test = test[feature_set_RF]\n",
    "    \n",
    "    y_train = data.OpenStatus\n",
    "    \n",
    "    clf = RandomForestClassifier(n_estimators=100)\n",
    "    clf.fit(X_LR_train, y_train)\n",
    "    \n",
    "    return clf.predict_proba(X_LR_test)[:, 1]"
   ]
  },
  {
   "cell_type": "code",
   "execution_count": 49,
   "metadata": {
    "collapsed": false
   },
   "outputs": [],
   "source": [
    "preds_rf = my_final_RF(data, test)"
   ]
  },
  {
   "cell_type": "code",
   "execution_count": 50,
   "metadata": {
    "collapsed": false,
    "scrolled": true
   },
   "outputs": [
    {
     "data": {
      "text/plain": [
       "0.74720352486196462"
      ]
     },
     "execution_count": 50,
     "metadata": {},
     "output_type": "execute_result"
    }
   ],
   "source": [
    "roc_auc_score(test.OpenStatus, preds_rf)"
   ]
  },
  {
   "cell_type": "markdown",
   "metadata": {},
   "source": [
    "### Композиция всех трёх моделей"
   ]
  },
  {
   "cell_type": "code",
   "execution_count": 51,
   "metadata": {
    "collapsed": false
   },
   "outputs": [
    {
     "data": {
      "text/plain": [
       "0.85621834406552666"
      ]
     },
     "execution_count": 51,
     "metadata": {},
     "output_type": "execute_result"
    }
   ],
   "source": [
    "alpha = 0.45\n",
    "beta = 0.94\n",
    "roc_auc_score(test.OpenStatus.values, beta * (alpha * preds + (1 - alpha) * preds1) + (1 - beta) * preds_rf)"
   ]
  },
  {
   "cell_type": "markdown",
   "metadata": {},
   "source": [
    "### Запись результатов"
   ]
  },
  {
   "cell_type": "code",
   "execution_count": 101,
   "metadata": {
    "collapsed": true
   },
   "outputs": [],
   "source": [
    "ind = test.PostId\n",
    "preds = pd.DataFrame({\"PostId\": ind, \"OpenStatus\": final_preds})\n",
    "preds = preds.set_index(\"PostId\")\n",
    "preds.to_csv('predictions2.csv')"
   ]
  },
  {
   "cell_type": "markdown",
   "metadata": {
    "collapsed": true
   },
   "source": [
    "### Итог:\n",
    "\n",
    "Для финальной модели использовалась композиция трёх моделей: двух логистических регрессий и одного случайного леса. Итоговый score: 0.85237"
   ]
  }
 ],
 "metadata": {
  "kernelspec": {
   "display_name": "Python 2",
   "language": "python",
   "name": "python2"
  },
  "language_info": {
   "codemirror_mode": {
    "name": "ipython",
    "version": 2
   },
   "file_extension": ".py",
   "mimetype": "text/x-python",
   "name": "python",
   "nbconvert_exporter": "python",
   "pygments_lexer": "ipython2",
   "version": "2.7.6"
  }
 },
 "nbformat": 4,
 "nbformat_minor": 0
}
